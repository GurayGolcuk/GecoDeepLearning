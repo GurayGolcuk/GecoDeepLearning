{
 "cells": [
  {
   "cell_type": "markdown",
   "metadata": {},
   "source": [
    "# Deep Neural Networks with Regularization\n"
   ]
  },
  {
   "cell_type": "code",
   "execution_count": 1,
   "metadata": {
    "collapsed": true
   },
   "outputs": [],
   "source": [
    "from __future__ import print_function\n",
    "import numpy as np\n",
    "import tensorflow as tf\n",
    "from six.moves import cPickle as pickle\n",
    "from six.moves import range"
   ]
  },
  {
   "cell_type": "markdown",
   "metadata": {},
   "source": [
    "Load the data"
   ]
  },
  {
   "cell_type": "code",
   "execution_count": 2,
   "metadata": {},
   "outputs": [
    {
     "name": "stdout",
     "output_type": "stream",
     "text": [
      "Training set (363, 59) (363,)\n",
      "Test set (122, 59) (122,)\n",
      "Training set (121, 59) (121,)\n"
     ]
    }
   ],
   "source": [
    "pickle_file = \".\\gmql_data\\kirc_data_divided_deneme.p\"\n",
    "\n",
    "with open(pickle_file, 'rb') as f:\n",
    "  save = pickle.load(f)\n",
    "  train_dataset = save['train_dataset']\n",
    "  train_labels = save['train_labels']\n",
    "  test_dataset = save['test_dataset']\n",
    "  test_labels = save['test_labels']\n",
    "  valid_dataset = save['valid_dataset']\n",
    "  valid_labels = save['valid_labels']\n",
    "  del save  # hint to help gc free up memory\n",
    "  print('Training set', train_dataset.shape, train_labels.shape)\n",
    "  print('Test set', test_dataset.shape, test_labels.shape)\n",
    "  print('Training set', valid_dataset.shape, valid_labels.shape)\n"
   ]
  },
  {
   "cell_type": "markdown",
   "metadata": {},
   "source": [
    "Reformat into a shape that's more adapted to the models we're going to train:\n",
    "data as a flat matrix,\n",
    "labels as float 1-hot encodings."
   ]
  },
  {
   "cell_type": "code",
   "execution_count": 3,
   "metadata": {},
   "outputs": [
    {
     "name": "stdout",
     "output_type": "stream",
     "text": [
      "Training set (363, 59) (363, 2)\n",
      "Test set (122, 59) (122, 2)\n",
      "Training set (121, 59) (121, 2)\n"
     ]
    }
   ],
   "source": [
    "features = 59\n",
    "num_labels = 2\n",
    "\n",
    "def reformat(dataset, labels):\n",
    "  dataset = dataset.reshape((-1, features)).astype(np.float32)\n",
    "  labels = (np.arange(num_labels) == labels[:,None]).astype(np.float32)\n",
    "  return dataset, labels\n",
    "\n",
    "train_dataset, train_labels = reformat(train_dataset, train_labels)\n",
    "test_dataset, test_labels = reformat(test_dataset, test_labels)\n",
    "valid_dataset, valid_labels = reformat(valid_dataset, valid_labels)\n",
    "\n",
    "print('Training set', train_dataset.shape, train_labels.shape)\n",
    "print('Test set', test_dataset.shape, test_labels.shape)\n",
    "print('Training set', valid_dataset.shape, valid_labels.shape)"
   ]
  },
  {
   "cell_type": "code",
   "execution_count": 4,
   "metadata": {
    "collapsed": true
   },
   "outputs": [],
   "source": [
    "batch_size = 50\n",
    "reg = 3e-3\n",
    "\n",
    "graph = tf.Graph()\n",
    "with graph.as_default():\n",
    "\n",
    "    # Input data.\n",
    "    # Load the training, validation and test data into constants that are attached to the graph.\n",
    "    tf_train_dataset = tf.placeholder(tf.float32, shape=(batch_size, features))\n",
    "    tf_train_labels = tf.placeholder(tf.float32, shape=(batch_size, num_labels))\n",
    "    tf_valid_dataset = tf.constant(valid_dataset)\n",
    "    tf_test_dataset = tf.constant(test_dataset)\n",
    "  \n",
    "    # Variables.\n",
    "    weights = tf.Variable(tf.truncated_normal([features, num_labels]))\n",
    "    biases = tf.Variable(tf.zeros([num_labels]))\n",
    "  \n",
    "  \n",
    "    # Training computation.\n",
    "    # Inputs multiplied with the weight matrix, and add biases. We compute\n",
    "    # the softmax and cross-entropy. We take the average of this cross-entropy across all training examples: that's our loss.\n",
    "    logits = tf.matmul(tf_train_dataset, weights) + biases\n",
    "    loss = tf.reduce_mean(tf.nn.softmax_cross_entropy_with_logits(logits = logits,labels =tf_train_labels))\n",
    "    #Regularization is added to loss\n",
    "    loss = loss + reg * tf.nn.l2_loss(weights)\n",
    "  \n",
    "    # Optimizer.\n",
    "    # We are going to find the minimum of this loss using gradient descent.\n",
    "    optimizer = tf.train.GradientDescentOptimizer(0.5).minimize(loss)\n",
    "  \n",
    "    # Predictions for the training, validation, and test data.\n",
    "    # These are not part of training, but merely here so that we can report accuracy figures as we train.\n",
    "    train_prediction = tf.nn.softmax(logits)\n",
    "    valid_prediction = tf.nn.softmax(tf.matmul(tf_valid_dataset, weights) + biases)\n",
    "    test_prediction = tf.nn.softmax(tf.matmul(tf_test_dataset, weights) + biases)\n",
    "    \n",
    "\n",
    "\n"
   ]
  },
  {
   "cell_type": "code",
   "execution_count": 5,
   "metadata": {
    "scrolled": true
   },
   "outputs": [
    {
     "name": "stdout",
     "output_type": "stream",
     "text": [
      "WARNING:tensorflow:From <ipython-input-5-1dbcd6f9038b>:9: initialize_all_variables (from tensorflow.python.ops.variables) is deprecated and will be removed after 2017-03-02.\n",
      "Instructions for updating:\n",
      "Use `tf.global_variables_initializer` instead.\n",
      "Initialized\n",
      "Mini batch loss at step 0: 0.909946\n",
      "Minibatch training accuracy: 36.0%\n",
      "Validation accuracy: 64.5%\n",
      "Mini batch loss at step 100: 0.148674\n",
      "Minibatch training accuracy: 90.0%\n",
      "Validation accuracy: 89.3%\n",
      "Mini batch loss at step 200: 0.150757\n",
      "Minibatch training accuracy: 90.0%\n",
      "Validation accuracy: 89.3%\n",
      "Mini batch loss at step 300: 0.171790\n",
      "Minibatch training accuracy: 88.0%\n",
      "Validation accuracy: 89.3%\n",
      "Mini batch loss at step 400: 0.207899\n",
      "Minibatch training accuracy: 88.0%\n",
      "Validation accuracy: 90.1%\n",
      "Mini batch loss at step 500: 0.248764\n",
      "Minibatch training accuracy: 88.0%\n",
      "Validation accuracy: 90.1%\n",
      "Mini batch loss at step 600: 0.289417\n",
      "Minibatch training accuracy: 88.0%\n",
      "Validation accuracy: 90.1%\n",
      "Mini batch loss at step 700: 0.332127\n",
      "Minibatch training accuracy: 88.0%\n",
      "Validation accuracy: 90.1%\n",
      "Mini batch loss at step 800: 0.370728\n",
      "Minibatch training accuracy: 86.0%\n",
      "Validation accuracy: 90.1%\n",
      "Mini batch loss at step 900: 0.406728\n",
      "Minibatch training accuracy: 88.0%\n",
      "Validation accuracy: 90.1%\n",
      "Mini batch loss at step 1000: 0.442192\n",
      "Minibatch training accuracy: 88.0%\n",
      "Validation accuracy: 90.1%\n",
      "Mini batch loss at step 1100: 0.474613\n",
      "Minibatch training accuracy: 88.0%\n",
      "Validation accuracy: 90.1%\n",
      "Mini batch loss at step 1200: 0.501871\n",
      "Minibatch training accuracy: 88.0%\n",
      "Validation accuracy: 90.1%\n",
      "Mini batch loss at step 1300: 0.526040\n",
      "Minibatch training accuracy: 88.0%\n",
      "Validation accuracy: 90.1%\n",
      "Mini batch loss at step 1400: 0.547475\n",
      "Minibatch training accuracy: 90.0%\n",
      "Validation accuracy: 90.1%\n",
      "Mini batch loss at step 1500: 0.567791\n",
      "Minibatch training accuracy: 90.0%\n",
      "Validation accuracy: 90.1%\n",
      "Mini batch loss at step 1600: 0.587472\n",
      "Minibatch training accuracy: 90.0%\n",
      "Validation accuracy: 90.1%\n",
      "Mini batch loss at step 1700: 0.603503\n",
      "Minibatch training accuracy: 90.0%\n",
      "Validation accuracy: 90.1%\n",
      "Mini batch loss at step 1800: 0.616255\n",
      "Minibatch training accuracy: 90.0%\n",
      "Validation accuracy: 90.1%\n",
      "Mini batch loss at step 1900: 0.632352\n",
      "Minibatch training accuracy: 90.0%\n",
      "Validation accuracy: 90.1%\n",
      "Mini batch loss at step 2000: 0.641964\n",
      "Minibatch training accuracy: 90.0%\n",
      "Validation accuracy: 90.1%\n",
      "Mini batch loss at step 2100: 0.647609\n",
      "Minibatch training accuracy: 88.0%\n",
      "Validation accuracy: 90.1%\n",
      "Mini batch loss at step 2200: 0.654503\n",
      "Minibatch training accuracy: 88.0%\n",
      "Validation accuracy: 90.1%\n",
      "Mini batch loss at step 2300: 0.660338\n",
      "Minibatch training accuracy: 88.0%\n",
      "Validation accuracy: 90.1%\n",
      "Mini batch loss at step 2400: 0.666124\n",
      "Minibatch training accuracy: 88.0%\n",
      "Validation accuracy: 90.1%\n",
      "Mini batch loss at step 2500: 0.671319\n",
      "Minibatch training accuracy: 86.0%\n",
      "Validation accuracy: 90.1%\n",
      "Mini batch loss at step 2600: 0.678753\n",
      "Minibatch training accuracy: 90.0%\n",
      "Validation accuracy: 90.1%\n",
      "Mini batch loss at step 2700: 0.683927\n",
      "Minibatch training accuracy: 84.0%\n",
      "Validation accuracy: 90.1%\n",
      "Mini batch loss at step 2800: 0.688440\n",
      "Minibatch training accuracy: 86.0%\n",
      "Validation accuracy: 90.1%\n",
      "Mini batch loss at step 2900: 0.693804\n",
      "Minibatch training accuracy: 86.0%\n",
      "Validation accuracy: 90.1%\n",
      "Mini batch loss at step 3000: 0.697049\n",
      "Minibatch training accuracy: 86.0%\n",
      "Validation accuracy: 90.1%\n",
      "Mini batch loss at step 3100: 0.697998\n",
      "Minibatch training accuracy: 90.0%\n",
      "Validation accuracy: 90.1%\n",
      "Mini batch loss at step 3200: 0.694810\n",
      "Minibatch training accuracy: 86.0%\n",
      "Validation accuracy: 90.1%\n",
      "Mini batch loss at step 3300: 0.699420\n",
      "Minibatch training accuracy: 86.0%\n",
      "Validation accuracy: 90.1%\n",
      "Mini batch loss at step 3400: 0.697426\n",
      "Minibatch training accuracy: 88.0%\n",
      "Validation accuracy: 90.1%\n",
      "Mini batch loss at step 3500: 0.696572\n",
      "Minibatch training accuracy: 88.0%\n",
      "Validation accuracy: 90.1%\n",
      "Mini batch loss at step 3600: 0.695698\n",
      "Minibatch training accuracy: 86.0%\n",
      "Validation accuracy: 90.1%\n",
      "Mini batch loss at step 3700: 0.694263\n",
      "Minibatch training accuracy: 88.0%\n",
      "Validation accuracy: 90.1%\n",
      "Mini batch loss at step 3800: 0.694922\n",
      "Minibatch training accuracy: 88.0%\n",
      "Validation accuracy: 90.1%\n",
      "Mini batch loss at step 3900: 0.699683\n",
      "Minibatch training accuracy: 88.0%\n",
      "Validation accuracy: 90.1%\n",
      "Test accuracy: 89.3%\n"
     ]
    }
   ],
   "source": [
    "num_steps = 4000\n",
    "\n",
    "def accuracy(predictions, labels):\n",
    "    return (100.0 * np.sum(np.argmax(predictions, 1) == np.argmax(labels, 1)) / predictions.shape[0])\n",
    "\n",
    "with tf.Session(graph=graph) as session:\n",
    "    # This is a one-time operation which ensures the parameters get initialized as\n",
    "    # we described in the graph: random weights for the matrix, zeros for the biases. \n",
    "    tf.initialize_all_variables().run()\n",
    "    print('Initialized')\n",
    "    for step in range(num_steps):\n",
    "        # Run the computations. We tell .run() that we want to run the optimizer,\n",
    "        # and get the loss value and the training predictions returned as numpy\n",
    "        # arrays.\n",
    "        offset = (step * batch_size) % (train_labels.shape[0] - batch_size)\n",
    "        batch_data = train_dataset[offset:(offset + batch_size), :]\n",
    "        batch_labels = train_labels[offset:(offset + batch_size), :]\n",
    "\n",
    "        feed_dict = {tf_train_dataset : batch_data, tf_train_labels : batch_labels}\n",
    "        _, l, predictions = session.run([optimizer, loss, train_prediction], feed_dict=feed_dict)\n",
    "    \n",
    "  \n",
    "        if (step % 100 == 0):\n",
    "            print('Mini batch loss at step %d: %f' % (step, l))\n",
    "            print('Minibatch training accuracy: %.1f%%' % accuracy(predictions, train_labels[:batch_size, :]))\n",
    "            # Calling .eval() on valid_prediction is basically like calling run(), but\n",
    "            # just to get that one numpy array. Note that it recomputes all its graph\n",
    "            # dependencies.\n",
    "            print('Validation accuracy: %.1f%%' % accuracy(valid_prediction.eval(), valid_labels))\n",
    "    print('Test accuracy: %.1f%%' % accuracy(test_prediction.eval(), test_labels))"
   ]
  },
  {
   "cell_type": "code",
   "execution_count": null,
   "metadata": {
    "collapsed": true
   },
   "outputs": [],
   "source": []
  }
 ],
 "metadata": {
  "kernelspec": {
   "display_name": "Python 3",
   "language": "python",
   "name": "python3"
  },
  "language_info": {
   "codemirror_mode": {
    "name": "ipython",
    "version": 3
   },
   "file_extension": ".py",
   "mimetype": "text/x-python",
   "name": "python",
   "nbconvert_exporter": "python",
   "pygments_lexer": "ipython3",
   "version": "3.5.2"
  }
 },
 "nbformat": 4,
 "nbformat_minor": 2
}
