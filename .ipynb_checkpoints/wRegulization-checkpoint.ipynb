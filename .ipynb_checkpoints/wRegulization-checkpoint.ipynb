{
 "cells": [
  {
   "cell_type": "markdown",
   "metadata": {},
   "source": [
    "# Deep Neural Networks with Regularization\n"
   ]
  },
  {
   "cell_type": "code",
   "execution_count": 1,
   "metadata": {
    "collapsed": true
   },
   "outputs": [],
   "source": [
    "from __future__ import print_function\n",
    "import numpy as np\n",
    "import tensorflow as tf\n",
    "from six.moves import cPickle as pickle\n",
    "from six.moves import range"
   ]
  },
  {
   "cell_type": "markdown",
   "metadata": {},
   "source": [
    "Load the data"
   ]
  },
  {
   "cell_type": "code",
   "execution_count": 2,
   "metadata": {},
   "outputs": [
    {
     "name": "stdout",
     "output_type": "stream",
     "text": [
      "Training set (363, 20) (363,)\n",
      "Test set (122, 20) (122,)\n",
      "Training set (121, 20) (121,)\n"
     ]
    }
   ],
   "source": [
    "pickle_file = \".\\gmql_data\\kirc_data_divided_deneme.p\"\n",
    "\n",
    "with open(pickle_file, 'rb') as f:\n",
    "  save = pickle.load(f)\n",
    "  train_dataset = save['train_dataset']\n",
    "  train_labels = save['train_labels']\n",
    "  test_dataset = save['test_dataset']\n",
    "  test_labels = save['test_labels']\n",
    "  valid_dataset = save['valid_dataset']\n",
    "  valid_labels = save['valid_labels']\n",
    "  del save  # hint to help gc free up memory\n",
    "  print('Training set', train_dataset.shape, train_labels.shape)\n",
    "  print('Test set', test_dataset.shape, test_labels.shape)\n",
    "  print('Training set', valid_dataset.shape, valid_labels.shape)\n"
   ]
  },
  {
   "cell_type": "markdown",
   "metadata": {},
   "source": [
    "Reformat into a shape that's more adapted to the models we're going to train:\n",
    "data as a flat matrix,\n",
    "labels as float 1-hot encodings."
   ]
  },
  {
   "cell_type": "code",
   "execution_count": 3,
   "metadata": {},
   "outputs": [
    {
     "name": "stdout",
     "output_type": "stream",
     "text": [
      "Training set (363, 20) (363, 2)\n",
      "Test set (122, 20) (122, 2)\n",
      "Training set (121, 20) (121, 2)\n"
     ]
    }
   ],
   "source": [
    "features = 20\n",
    "num_labels = 2\n",
    "\n",
    "def reformat(dataset, labels):\n",
    "  dataset = dataset.reshape((-1, features)).astype(np.float32)\n",
    "  labels = (np.arange(num_labels) == labels[:,None]).astype(np.float32)\n",
    "  return dataset, labels\n",
    "\n",
    "train_dataset, train_labels = reformat(train_dataset, train_labels)\n",
    "test_dataset, test_labels = reformat(test_dataset, test_labels)\n",
    "valid_dataset, valid_labels = reformat(valid_dataset, valid_labels)\n",
    "\n",
    "print('Training set', train_dataset.shape, train_labels.shape)\n",
    "print('Test set', test_dataset.shape, test_labels.shape)\n",
    "print('Training set', valid_dataset.shape, valid_labels.shape)"
   ]
  },
  {
   "cell_type": "code",
   "execution_count": 4,
   "metadata": {
    "collapsed": true
   },
   "outputs": [],
   "source": [
    "train_subset = 122\n",
    "features = 20\n",
    "num_labels = 2\n",
    "graph = tf.Graph()\n",
    "with graph.as_default():\n",
    "\n",
    "    # Input data.\n",
    "    # Load the training, validation and test data into constants that are attached to the graph.\n",
    "    tf_train_dataset = tf.constant(train_dataset[:train_subset, :])\n",
    "    tf_train_labels = tf.constant(train_labels[:train_subset])\n",
    "    tf_valid_dataset = tf.constant(valid_dataset)\n",
    "    tf_test_dataset = tf.constant(test_dataset)\n",
    "  \n",
    "    # Variables.\n",
    "    # These are the parameters that we are going to be training. The weight\n",
    "    # matrix will be initialized using random values following a (truncated)\n",
    "    # normal distribution. The biases get initialized to zero.\n",
    "    weights = tf.Variable(tf.random_normal([features, num_labels]))\n",
    "    biases = tf.Variable(tf.zeros([num_labels]))\n",
    "  \n",
    "  \n",
    "    # Training computation.\n",
    "    # We multiply the inputs with the weight matrix, and add biases. We compute\n",
    "    # the softmax and cross-entropy (it's one operation in TensorFlow, because\n",
    "    # it's very common, and it can be optimized). We take the average of this\n",
    "    # cross-entropy across all training examples: that's our loss.\n",
    "    logits = tf.matmul(tf_train_dataset, weights) + biases\n",
    "    #loss = tf.reduce_mean(tf.nn.softmax_cross_entropy_with_logits(logits = logits,labels =tf_train_labels))\n",
    "    loss = tf.reduce_sum(tf.pow(logits-tf_train_labels, 2))/(2*train_subset)\n",
    "  \n",
    "    # Optimizer.\n",
    "    # We are going to find the minimum of this loss using gradient descent.\n",
    "    optimizer = tf.train.GradientDescentOptimizer(0.5).minimize(loss)\n",
    "  \n",
    "    # Predictions for the training, validation, and test data.\n",
    "    # These are not part of training, but merely here so that we can report\n",
    "    # accuracy figures as we train.\n",
    "    train_prediction = tf.nn.softmax(logits)\n",
    "    valid_prediction = tf.nn.softmax(tf.matmul(tf_valid_dataset, weights) + biases)\n",
    "    test_prediction = tf.nn.softmax(tf.matmul(tf_test_dataset, weights) + biases)\n",
    "    \n",
    "\n",
    "\n"
   ]
  },
  {
   "cell_type": "code",
   "execution_count": 5,
   "metadata": {},
   "outputs": [
    {
     "name": "stdout",
     "output_type": "stream",
     "text": [
      "WARNING:tensorflow:From <ipython-input-5-757da9dbbdb1>:10: initialize_all_variables (from tensorflow.python.ops.variables) is deprecated and will be removed after 2017-03-02.\n",
      "Instructions for updating:\n",
      "Use `tf.global_variables_initializer` instead.\n",
      "Initialized\n",
      "Loss at step 0: 0.865676\n",
      "Training accuracy: 39.3%\n",
      "Validation accuracy: 66.9%\n",
      "Loss at step 100: 0.069938\n",
      "Training accuracy: 90.2%\n",
      "Validation accuracy: 88.4%\n",
      "Loss at step 200: 0.034601\n",
      "Training accuracy: 91.0%\n",
      "Validation accuracy: 89.3%\n",
      "Loss at step 300: 0.025763\n",
      "Training accuracy: 91.0%\n",
      "Validation accuracy: 89.3%\n",
      "Loss at step 400: 0.022617\n",
      "Training accuracy: 91.0%\n",
      "Validation accuracy: 89.3%\n",
      "Loss at step 500: 0.021174\n",
      "Training accuracy: 91.0%\n",
      "Validation accuracy: 89.3%\n",
      "Loss at step 600: 0.020376\n",
      "Training accuracy: 91.0%\n",
      "Validation accuracy: 89.3%\n",
      "Loss at step 700: 0.019868\n",
      "Training accuracy: 91.0%\n",
      "Validation accuracy: 89.3%\n",
      "Loss at step 800: 0.019511\n",
      "Training accuracy: 91.0%\n",
      "Validation accuracy: 89.3%\n",
      "Loss at step 900: 0.019244\n",
      "Training accuracy: 91.0%\n",
      "Validation accuracy: 89.3%\n",
      "Loss at step 1000: 0.019034\n",
      "Training accuracy: 91.0%\n",
      "Validation accuracy: 89.3%\n",
      "Loss at step 1100: 0.018865\n",
      "Training accuracy: 91.0%\n",
      "Validation accuracy: 89.3%\n",
      "Loss at step 1200: 0.018725\n",
      "Training accuracy: 91.0%\n",
      "Validation accuracy: 90.1%\n",
      "Loss at step 1300: 0.018609\n",
      "Training accuracy: 91.0%\n",
      "Validation accuracy: 90.1%\n",
      "Loss at step 1400: 0.018509\n",
      "Training accuracy: 91.0%\n",
      "Validation accuracy: 90.1%\n",
      "Loss at step 1500: 0.018424\n",
      "Training accuracy: 91.0%\n",
      "Validation accuracy: 90.1%\n",
      "Loss at step 1600: 0.018350\n",
      "Training accuracy: 91.0%\n",
      "Validation accuracy: 90.1%\n",
      "Loss at step 1700: 0.018286\n",
      "Training accuracy: 91.0%\n",
      "Validation accuracy: 90.1%\n",
      "Loss at step 1800: 0.018229\n",
      "Training accuracy: 91.0%\n",
      "Validation accuracy: 90.1%\n",
      "Loss at step 1900: 0.018178\n",
      "Training accuracy: 91.0%\n",
      "Validation accuracy: 90.1%\n",
      "Loss at step 2000: 0.018132\n",
      "Training accuracy: 91.0%\n",
      "Validation accuracy: 90.1%\n",
      "Loss at step 2100: 0.018090\n",
      "Training accuracy: 91.0%\n",
      "Validation accuracy: 90.1%\n",
      "Loss at step 2200: 0.018053\n",
      "Training accuracy: 91.0%\n",
      "Validation accuracy: 90.9%\n",
      "Loss at step 2300: 0.018018\n",
      "Training accuracy: 91.0%\n",
      "Validation accuracy: 90.9%\n",
      "Loss at step 2400: 0.017986\n",
      "Training accuracy: 91.0%\n",
      "Validation accuracy: 90.9%\n",
      "Loss at step 2500: 0.017957\n",
      "Training accuracy: 91.0%\n",
      "Validation accuracy: 90.9%\n",
      "Loss at step 2600: 0.017929\n",
      "Training accuracy: 91.0%\n",
      "Validation accuracy: 90.9%\n",
      "Loss at step 2700: 0.017904\n",
      "Training accuracy: 91.0%\n",
      "Validation accuracy: 90.9%\n",
      "Loss at step 2800: 0.017880\n",
      "Training accuracy: 91.0%\n",
      "Validation accuracy: 90.9%\n",
      "Loss at step 2900: 0.017857\n",
      "Training accuracy: 91.0%\n",
      "Validation accuracy: 90.9%\n",
      "Test accuracy: 88.5%\n"
     ]
    }
   ],
   "source": [
    "num_steps = 3000\n",
    "\n",
    "def accuracy(predictions, labels):\n",
    "    return (100.0 * np.sum(np.argmax(predictions, 1) == np.argmax(labels, 1)) / predictions.shape[0])\n",
    "\n",
    "with tf.Session(graph=graph) as session:\n",
    "    # This is a one-time operation which ensures the parameters get initialized as\n",
    "    # we described in the graph: random weights for the matrix, zeros for the\n",
    "    # biases. \n",
    "    tf.initialize_all_variables().run()\n",
    "    print('Initialized')\n",
    "    for step in range(num_steps):\n",
    "        # Run the computations. We tell .run() that we want to run the optimizer,\n",
    "        # and get the loss value and the training predictions returned as numpy\n",
    "        # arrays.\n",
    "        _, l, predictions = session.run([optimizer, loss, train_prediction])\n",
    "        if (step % 100 == 0):\n",
    "            print('Loss at step %d: %f' % (step, l))\n",
    "            print('Training accuracy: %.1f%%' % accuracy(predictions, train_labels[:train_subset, :]))\n",
    "            # Calling .eval() on valid_prediction is basically like calling run(), but\n",
    "            # just to get that one numpy array. Note that it recomputes all its graph\n",
    "            # dependencies.\n",
    "            print('Validation accuracy: %.1f%%' % accuracy(valid_prediction.eval(), valid_labels))\n",
    "    print('Test accuracy: %.1f%%' % accuracy(test_prediction.eval(), test_labels))"
   ]
  },
  {
   "cell_type": "code",
   "execution_count": null,
   "metadata": {
    "collapsed": true
   },
   "outputs": [],
   "source": []
  }
 ],
 "metadata": {
  "kernelspec": {
   "display_name": "Python 3",
   "language": "python",
   "name": "python3"
  },
  "language_info": {
   "codemirror_mode": {
    "name": "ipython",
    "version": 3
   },
   "file_extension": ".py",
   "mimetype": "text/x-python",
   "name": "python",
   "nbconvert_exporter": "python",
   "pygments_lexer": "ipython3",
   "version": "3.5.2"
  }
 },
 "nbformat": 4,
 "nbformat_minor": 2
}
